{
 "cells": [
  {
   "cell_type": "code",
   "execution_count": 1,
   "metadata": {
    "collapsed": true
   },
   "outputs": [],
   "source": [
    "import time\n",
    "import os\n",
    "import raco.viz\n",
    "\n",
    "import findspark\n",
    "findspark.init()\n",
    "findspark.add_packages('com.databricks:spark-csv_2.10:1.4.0')\n",
    "\n",
    "from raco.backends.spark.connection import SparkConnection\n",
    "from raco.backends.spark.catalog import SparkCatalog\n",
    "from raco.backends.spark.algebra import SparkAlgebra\n",
    "\n",
    "from raco.backends.logical import OptLogicalAlgebra\n",
    "from raco.catalog import FromFileCatalog\n",
    "import raco.myrial.interpreter as interpreter\n",
    "import raco.myrial.parser as myrialparser\n",
    "\n",
    "from raco.backends.myria import MyriaLeftDeepTreeAlgebra\n",
    "from raco.backends.myria.connection import MyriaConnection\n",
    "from raco.backends.myria.catalog import MyriaCatalog\n",
    "\n",
    "import accumulo\n",
    "from raco.backends.accumulo.connection import AccumuloConnection\n",
    "from raco.backends.accumulo.catalog import AccumuloCatalog\n",
    "\n",
    "from raco.backends.federated.connection import FederatedConnection\n",
    "from raco.backends.federated.catalog import FederatedCatalog\n",
    "from raco.backends.federated.algebra import FederatedAlgebra"
   ]
  },
  {
   "cell_type": "code",
   "execution_count": 2,
   "metadata": {
    "collapsed": false
   },
   "outputs": [],
   "source": [
    "masterHostname = os.environ.get('sparkurl', 'localhost')\n",
    "def get_accumulo_connection():\n",
    "    host='localhost'\n",
    "    port=42424\n",
    "    user='root'\n",
    "    pw='secret'\n",
    "    return AccumuloConnection(host, port, user, pw) \n",
    "\n",
    "def get_spark_connection():\n",
    "    masterHostname = os.environ.get('sparkurl', 'localhost')\n",
    "    if masterHostname == 'localhost':\n",
    "        return SparkConnection(masterHostname)\n",
    "    return SparkConnection(\"spark://{masterHostname}:7077\".format(masterHostname=masterHostname))\n"
   ]
  },
  {
   "cell_type": "code",
   "execution_count": 3,
   "metadata": {
    "collapsed": false
   },
   "outputs": [],
   "source": [
    "##Initialize Backend Accumulo\n",
    "accumuloconn = get_accumulo_connection()\n",
    "accumulocatalog = AccumuloCatalog(accumuloconn)\n",
    "\n",
    "##Initialize Backend Spark\n",
    "sparkconn = get_spark_connection()\n",
    "sparkcatalog = SparkCatalog.load_from_file(os.path.join(os.path.abspath('./examples/'), 'catalog.py'))\n",
    "\n",
    "##Initialize Federated Backend\n",
    "fed_conn = FederatedConnection([accumuloconn, sparkconn])\n",
    "fed_catalog = FederatedCatalog([accumulocatalog, sparkcatalog])"
   ]
  },
  {
   "cell_type": "code",
   "execution_count": 4,
   "metadata": {
    "collapsed": true
   },
   "outputs": [],
   "source": [
    "##The Jaccard Computation expressed as MyriaL query\n",
    "program_fquery=\"\"\"\n",
    "-- Scan netflow data (this resides in Accumulo)\n",
    "NF = scan(netflow);\n",
    "-- Filter the dataset (runs on Accumulo)\n",
    "NFSUB = select SrcAddr as src_ip, DstAddr as dst_ip, 1.0 as value from NF where TotBytes > 100;\n",
    "-- Scan DNS dataset (this is accessible to Spark)\n",
    "DNS = scan('/home/dhutchis/gits/raco/examples/fed_accumulo_spark_c/dnssample_parsed.txt');\n",
    "-- Perform a Join (Automatically move the datasets as necessary)\n",
    "graph = select d1.dns as row, d2.dns as col, n.value\n",
    "\t\tfrom NFSUB n, DNS d1, DNS d2\n",
    "\t    where n.src_ip = d1.ip and n.dst_ip = d2.ip;\n",
    "\n",
    "--Begin Jaccard\n",
    "-- Calculate common neighbours\n",
    "gammas = select a.row as u, b.row as v, count(b.value) as gamma\n",
    "\t\t from graph a, graph b\n",
    "         where a.col == b.col;\n",
    "\n",
    "-- Calculate the out_degree of each vertex\n",
    "out_d = select row, count(value) as od from graph;\n",
    "\n",
    "-- Calculate the Jaccard Coefficients for all pairs (u,v);\n",
    "J = select a.u as src_name, a.v as dst_name, a.gamma/(b.od + c.od - a.gamma) as jaccard_coeff\n",
    "\tfrom gammas a, out_d b, out_d c\n",
    "    where a.u = b.row and a.v = c.row;\n",
    "\n",
    "-- Store the result\n",
    "store(J, nameJaccard);\n",
    "\"\"\""
   ]
  },
  {
   "cell_type": "code",
   "execution_count": 5,
   "metadata": {
    "collapsed": false,
    "scrolled": false
   },
   "outputs": [
    {
     "name": "stdout",
     "output_type": "stream",
     "text": [
      "Relation not present try other catalogs\n",
      "Relation not present try other catalogs\n"
     ]
    }
   ],
   "source": [
    "##Parse the query\n",
    "parser = myrialparser.Parser()\n",
    "processor = interpreter.StatementProcessor(fed_catalog, True)\n",
    "statement_list = parser.parse(program_fquery)\n",
    "processor.evaluate(statement_list)"
   ]
  },
  {
   "cell_type": "code",
   "execution_count": 6,
   "metadata": {
    "collapsed": false,
    "scrolled": true
   },
   "outputs": [
    {
     "data": {
      "text/plain": [
       "'Digraph.gv.pdf'"
      ]
     },
     "execution_count": 6,
     "metadata": {},
     "output_type": "execute_result"
    }
   ],
   "source": [
    "##Lets Visualize the query\n",
    "logical_plan = processor.get_logical_plan()\n",
    "dot_logical = raco.viz.operator_to_dot_object(logical_plan)\n",
    "dot_logical.view()"
   ]
  },
  {
   "cell_type": "code",
   "execution_count": 7,
   "metadata": {
    "collapsed": false,
    "scrolled": false
   },
   "outputs": [
    {
     "name": "stdout",
     "output_type": "stream",
     "text": [
      "Relation not present try other catalogs\n",
      "Relation not present try other catalogs\n",
      "Relation not present try other catalogs\n",
      "Relation not present try other catalogs\n",
      "Relation not present try other catalogs\n",
      "Relation not present try other catalogs\n",
      "Relation not present try other catalogs\n",
      "Relation not present try other catalogs\n"
     ]
    }
   ],
   "source": [
    "##Let's optimize the query and let the federation figure out the right backends\n",
    "algebras = [OptLogicalAlgebra(), MyriaLeftDeepTreeAlgebra(), SparkAlgebra()]\n",
    "falg = FederatedAlgebra(algebras, fed_catalog)\n",
    "federated_plan = processor.get_physical_plan(target_alg=falg)"
   ]
  },
  {
   "cell_type": "code",
   "execution_count": 8,
   "metadata": {
    "collapsed": false
   },
   "outputs": [
    {
     "data": {
      "text/plain": [
       "'Digraph.gv.pdf'"
      ]
     },
     "execution_count": 8,
     "metadata": {},
     "output_type": "execute_result"
    }
   ],
   "source": [
    "##Visualizing the physical plan\n",
    "raco.viz.operator_to_dot_object(federated_plan).view()"
   ]
  },
  {
   "cell_type": "code",
   "execution_count": 9,
   "metadata": {
    "collapsed": false
   },
   "outputs": [
    {
     "name": "stdout",
     "output_type": "stream",
     "text": [
      "+--------+--------+-------------+\n",
      "|src_name|dst_name|jaccard_coeff|\n",
      "+--------+--------+-------------+\n",
      "+--------+--------+-------------+\n",
      "\n"
     ]
    },
    {
     "data": {
      "text/plain": [
       "(0, 'nameJaccard')"
      ]
     },
     "execution_count": 9,
     "metadata": {},
     "output_type": "execute_result"
    }
   ],
   "source": [
    "##Submit the plan for federated execution\n",
    "fed_conn.execute_query(federated_plan)"
   ]
  },
  {
   "cell_type": "code",
   "execution_count": null,
   "metadata": {
    "collapsed": true
   },
   "outputs": [],
   "source": []
  },
  {
   "cell_type": "code",
   "execution_count": null,
   "metadata": {
    "collapsed": true
   },
   "outputs": [],
   "source": []
  },
  {
   "cell_type": "code",
   "execution_count": 10,
   "metadata": {
    "collapsed": false
   },
   "outputs": [
    {
     "ename": "IOError",
     "evalue": "[Errno 2] No such file or directory: '/Users/shrainik/Dropbox/raco/examples/catalog.py'",
     "output_type": "error",
     "traceback": [
      "\u001b[0;31m---------------------------------------------------------------------------\u001b[0m",
      "\u001b[0;31mIOError\u001b[0m                                   Traceback (most recent call last)",
      "\u001b[0;32m<ipython-input-10-a0d92687783c>\u001b[0m in \u001b[0;36m<module>\u001b[0;34m()\u001b[0m\n\u001b[1;32m      4\u001b[0m c_catalog = FromFileCatalog.load_from_file(os.path.join(\n\u001b[1;32m      5\u001b[0m                                                \u001b[0mos\u001b[0m\u001b[0;34m.\u001b[0m\u001b[0mpath\u001b[0m\u001b[0;34m.\u001b[0m\u001b[0mdirname\u001b[0m\u001b[0;34m(\u001b[0m\u001b[0;34m'/Users/shrainik/Dropbox/raco/examples/'\u001b[0m\u001b[0;34m)\u001b[0m\u001b[0;34m,\u001b[0m\u001b[0;34m\u001b[0m\u001b[0m\n\u001b[0;32m----> 6\u001b[0;31m                                                'catalog.py'))\n\u001b[0m\u001b[1;32m      7\u001b[0m \u001b[0;34m\u001b[0m\u001b[0m\n\u001b[1;32m      8\u001b[0m \u001b[0;31m##Initialize Federated Backend -- With the C catalog\u001b[0m\u001b[0;34m\u001b[0m\u001b[0;34m\u001b[0m\u001b[0m\n",
      "\u001b[0;32m/home/dhutchis/gits/raco/raco/catalog.pyc\u001b[0m in \u001b[0;36mload_from_file\u001b[0;34m(cls, path)\u001b[0m\n\u001b[1;32m    158\u001b[0m     \u001b[0;34m@\u001b[0m\u001b[0mclassmethod\u001b[0m\u001b[0;34m\u001b[0m\u001b[0m\n\u001b[1;32m    159\u001b[0m     \u001b[0;32mdef\u001b[0m \u001b[0mload_from_file\u001b[0m\u001b[0;34m(\u001b[0m\u001b[0mcls\u001b[0m\u001b[0;34m,\u001b[0m \u001b[0mpath\u001b[0m\u001b[0;34m)\u001b[0m\u001b[0;34m:\u001b[0m\u001b[0;34m\u001b[0m\u001b[0m\n\u001b[0;32m--> 160\u001b[0;31m         \u001b[0;32mwith\u001b[0m \u001b[0mopen\u001b[0m\u001b[0;34m(\u001b[0m\u001b[0mpath\u001b[0m\u001b[0;34m)\u001b[0m \u001b[0;32mas\u001b[0m \u001b[0mfh\u001b[0m\u001b[0;34m:\u001b[0m\u001b[0;34m\u001b[0m\u001b[0m\n\u001b[0m\u001b[1;32m    161\u001b[0m             \u001b[0;32mreturn\u001b[0m \u001b[0mcls\u001b[0m\u001b[0;34m(\u001b[0m\u001b[0mliteral_eval\u001b[0m\u001b[0;34m(\u001b[0m\u001b[0mfh\u001b[0m\u001b[0;34m.\u001b[0m\u001b[0mread\u001b[0m\u001b[0;34m(\u001b[0m\u001b[0;34m)\u001b[0m\u001b[0;34m)\u001b[0m\u001b[0;34m,\u001b[0m \u001b[0mpath\u001b[0m\u001b[0;34m)\u001b[0m\u001b[0;34m\u001b[0m\u001b[0m\n\u001b[1;32m    162\u001b[0m \u001b[0;34m\u001b[0m\u001b[0m\n",
      "\u001b[0;31mIOError\u001b[0m: [Errno 2] No such file or directory: '/Users/shrainik/Dropbox/raco/examples/catalog.py'"
     ]
    }
   ],
   "source": [
    "from raco.backends.cpp.cpp import CCAlgebra\n",
    "\n",
    "##Initialize C Backend Catalog\n",
    "c_catalog = FromFileCatalog.load_from_file(os.path.join(\n",
    "                                               os.path.dirname('/home//raco/examples/'), \n",
    "                                               'catalog.py'))\n",
    "\n",
    "##Initialize Federated Backend -- With the C catalog\n",
    "fed_conn = FederatedConnection([myriaconn])\n",
    "fed_catalog = FederatedCatalog([myriacatalog, c_catalog])\n",
    "\n",
    "##Parse the query -- SAME AS BEFORE\n",
    "parser = myrialparser.Parser()\n",
    "processor = interpreter.StatementProcessor(fed_catalog, True)\n",
    "statement_list = parser.parse(program_fquery)\n",
    "processor.evaluate(statement_list)\n",
    "\n",
    "##Change to C Algebra \n",
    "algebras = [OptLogicalAlgebra(), MyriaLeftDeepTreeAlgebra(), CCAlgebra()]\n",
    "falg = FederatedAlgebra(algebras, fed_catalog, crossproducts=False)\n",
    "federated_plan = processor.get_physical_plan(target_alg=falg)\n",
    "##Visualizing the physical plan\n",
    "raco.viz.operator_to_dot_object(federated_plan).view()"
   ]
  },
  {
   "cell_type": "code",
   "execution_count": null,
   "metadata": {
    "collapsed": true
   },
   "outputs": [],
   "source": []
  },
  {
   "cell_type": "code",
   "execution_count": null,
   "metadata": {
    "collapsed": true
   },
   "outputs": [],
   "source": []
  }
 ],
 "metadata": {
  "kernelspec": {
   "display_name": "Python 2",
   "language": "python",
   "name": "python2"
  },
  "language_info": {
   "codemirror_mode": {
    "name": "ipython",
    "version": 2
   },
   "file_extension": ".py",
   "mimetype": "text/x-python",
   "name": "python",
   "nbconvert_exporter": "python",
   "pygments_lexer": "ipython2",
   "version": "2.7.6"
  }
 },
 "nbformat": 4,
 "nbformat_minor": 1
}
