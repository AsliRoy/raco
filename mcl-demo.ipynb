{
 "cells": [
  {
   "cell_type": "code",
   "execution_count": 1,
   "metadata": {
    "collapsed": false
   },
   "outputs": [
    {
     "name": "stdout",
     "output_type": "stream",
     "text": [
      "Successfully imported Spark Modules\n"
     ]
    }
   ],
   "source": [
    "from raco.backends.spark.connection import SparkConnection\n",
    "from raco.backends.spark.catalog import SparkCatalog\n",
    "from raco.backends.spark.algebra import SparkAlgebra\n",
    "from raco.backends.myria.connection import MyriaConnection\n",
    "from raco.backends.myria.catalog import MyriaCatalog\n",
    "from raco.backends.myria import MyriaLeftDeepTreeAlgebra\n",
    "from raco.backends.federated.connection import FederatedConnection\n",
    "from raco.backends.federated.catalog import FederatedCatalog\n",
    "from raco.backends.federated import FederatedAlgebra\n",
    "from raco.backends.federated.algebra import FederatedExec\n",
    "\n",
    "import raco.myrial.interpreter as interpreter\n",
    "import raco.myrial.parser as myrialparser\n",
    "from optparse import OptionParser\n",
    "\n",
    "import raco.viz\n",
    "\n",
    "import os\n"
   ]
  },
  {
   "cell_type": "code",
   "execution_count": 2,
   "metadata": {
    "collapsed": false
   },
   "outputs": [],
   "source": [
    "def get_myria_connection():\n",
    "    rest_url = 'https://rest.myria.cs.washington.edu:1776'\n",
    "    execution_url = 'http://demo.myria.cs.washington.edu'\n",
    "    connection = MyriaConnection(rest_url=rest_url,\n",
    "                                 execution_url=execution_url)\n",
    "    return connection\n"
   ]
  },
  {
   "cell_type": "code",
   "execution_count": 3,
   "metadata": {
    "collapsed": true
   },
   "outputs": [],
   "source": [
    "def get_spark_connection():\n",
    "    connection = SparkConnection('local')\n",
    "    return connection\n"
   ]
  },
  {
   "cell_type": "code",
   "execution_count": 4,
   "metadata": {
    "collapsed": true
   },
   "outputs": [],
   "source": [
    "program_join =\"\"\"\n",
    "abc = scan('/users/shrainik/downloads/sample.dat');\n",
    "abc1 = scan('/users/shrainik/downloads/sample.dat');\n",
    "--a = [from abc emit i as row_a, j as col_a, v as val_a];\n",
    "--a1 = [from abc1 emit i as row_a1, j as col_a1, v as val_a1];\n",
    "--b = [from a, a1 emit a.val_a, a.row_a, a.col_a];\n",
    "b = [from abc, abc1 emit abc.v];\n",
    "store(b,join_result);\n",
    "\"\"\"\n"
   ]
  },
  {
   "cell_type": "code",
   "execution_count": 5,
   "metadata": {
    "collapsed": true
   },
   "outputs": [],
   "source": [
    "program_test_project_dimension =\"\"\"\n",
    "abc = scan('/users/shrainik/downloads/sample.dat');\n",
    "b = [from abc where abc.i>5 emit i, j ];\n",
    "store(b, '/users/shrainik/downloads/sample-out.dat');\n",
    "\"\"\""
   ]
  },
  {
   "cell_type": "code",
   "execution_count": 6,
   "metadata": {
    "collapsed": true
   },
   "outputs": [],
   "source": [
    "program_mcl = \"\"\"\n",
    "matA = scan('/users/shrainik/downloads/sample_small.dat');\n",
    "\n",
    "-- define constant values as singleton tables.\n",
    "epsilon = [0.001];\n",
    "prunelimit = [0.00001];\n",
    "\n",
    "-- initialize oldChaos and newChaos for stop condition.\n",
    "oldchaos = [1000];\n",
    "newchaos = [1000];\n",
    "\n",
    "-- while there is an epsilon improvement\n",
    "do\n",
    "    oldchaos = newchaos;\n",
    "\n",
    "    -- square matA\n",
    "    A = [from matA emit col as col_a, row as row_a, value as val_a];\n",
    "    B = [from matA emit col as col_b, row as row_b, value as val_b];\n",
    "    AxA = [from A, B\n",
    "           where col_a == row_b\n",
    "           emit row_a as row, col_b as col, sum(val_a * val_b) as value];\n",
    "\n",
    "    -- inflate operation\n",
    "    -- value will be value^2\n",
    "    squareA = [from AxA emit row, col, value * value as value];\n",
    "\n",
    "    colsums = [from squareA\n",
    "               emit squareA.col as col_c, sum(squareA.value) as colsum];\n",
    "\n",
    "    -- normalize newMatA\n",
    "    newMatA = [from squareA, colsums\n",
    "               where squareA.col == colsums.col_c\n",
    "               emit squareA.row as row, squareA.col as col, squareA.value/colsums.colsum as value];\n",
    "\n",
    "    -- pruning\n",
    "    prunedA = [from newMatA\n",
    "               where value > *prunelimit\n",
    "               emit *];\n",
    "\n",
    "    -- calculate newchaos\n",
    "    colssqs = [from prunedA\n",
    "               emit prunedA.col as col_sqs, sum (prunedA.value * prunedA.value) as sumSquare];\n",
    "    colmaxs = [from prunedA\n",
    "               emit prunedA.col as col_max, max (prunedA.value) as maxVal];\n",
    "\n",
    "    newchaos = [from colmaxs, colssqs\n",
    "                where colmaxs.col_max == colssqs.col_sqs\n",
    "                emit max (colmaxs.maxVal - colssqs.sumSquare)];\n",
    "\n",
    "    -- prepare for the iteration.\n",
    "    matA = prunedA;\n",
    "\n",
    "    -- check the convergency.\n",
    "    continue = [from newchaos, oldchaos emit (*oldchaos - *newchaos) > *epsilon];\n",
    "while continue;\n",
    "\n",
    "store (newchaos, '/users/shrainik/downloads/output.dat');\n",
    "\"\"\"\n"
   ]
  },
  {
   "cell_type": "code",
   "execution_count": 7,
   "metadata": {
    "collapsed": false
   },
   "outputs": [],
   "source": [
    "myriaconn = get_myria_connection()\n",
    "sparkconn = get_spark_connection()\n"
   ]
  },
  {
   "cell_type": "code",
   "execution_count": 8,
   "metadata": {
    "collapsed": true
   },
   "outputs": [],
   "source": [
    "myriacatalog = MyriaCatalog(myriaconn)\n",
    "sparkcatalog = SparkCatalog(sparkconn)\n"
   ]
  },
  {
   "cell_type": "code",
   "execution_count": 9,
   "metadata": {
    "collapsed": true
   },
   "outputs": [],
   "source": [
    "myrial_code = program_mcl"
   ]
  },
  {
   "cell_type": "code",
   "execution_count": 10,
   "metadata": {
    "collapsed": false
   },
   "outputs": [
    {
     "name": "stdout",
     "output_type": "stream",
     "text": [
      "[('row', 'LONG_TYPE'), ('col', 'LONG_TYPE'), ('value', 'LONG_TYPE')]\n"
     ]
    }
   ],
   "source": [
    "catalog = FederatedCatalog([myriacatalog, sparkcatalog])\n",
    "parser = myrialparser.Parser()\n",
    "processor = interpreter.StatementProcessor(catalog, True)\n",
    "statement_list = parser.parse(myrial_code)\n",
    "processor.evaluate(statement_list)\n",
    "\n",
    "algebras = [MyriaLeftDeepTreeAlgebra(), SparkAlgebra()]\n",
    "falg = FederatedAlgebra(algebras, catalog)\n"
   ]
  },
  {
   "cell_type": "code",
   "execution_count": 11,
   "metadata": {
    "collapsed": false
   },
   "outputs": [
    {
     "name": "stdout",
     "output_type": "stream",
     "text": [
      "[('row', 'LONG_TYPE'), ('col', 'LONG_TYPE'), ('value', 'LONG_TYPE')]\n"
     ]
    }
   ],
   "source": [
    "pd = processor.get_physical_plan(target_alg=falg)\n"
   ]
  },
  {
   "cell_type": "code",
   "execution_count": 12,
   "metadata": {
    "collapsed": false,
    "scrolled": false
   },
   "outputs": [
    {
     "name": "stdout",
     "output_type": "stream",
     "text": [
      "+-----+-----+--------------+\n",
      "|row_a|col_b|sum(SUM403895)|\n",
      "+-----+-----+--------------+\n",
      "+-----+-----+--------------+\n",
      "\n",
      "+-----+-----+--------------+\n",
      "|row_a|col_b|sum(SUM751177)|\n",
      "+-----+-----+--------------+\n",
      "+-----+-----+--------------+\n",
      "\n",
      "+---+----------+\n",
      "|col|sum(value)|\n",
      "+---+----------+\n",
      "+---+----------+\n",
      "\n",
      "+-----+-----+--------------+\n",
      "|row_a|col_b|sum(SUM751177)|\n",
      "+-----+-----+--------------+\n",
      "+-----+-----+--------------+\n",
      "\n",
      "+---+---+-----+\n",
      "|row|col|value|\n",
      "+---+---+-----+\n",
      "+---+---+-----+\n",
      "\n",
      "+---+----------+\n",
      "|col|max(value)|\n",
      "+---+----------+\n",
      "+---+----------+\n",
      "\n",
      "+---+---+-----+\n",
      "|row|col|value|\n",
      "+---+---+-----+\n",
      "+---+---+-----+\n",
      "\n",
      "+---+---+-----+\n",
      "|row|col|value|\n",
      "+---+---+-----+\n",
      "+---+---+-----+\n",
      "\n",
      "+---+--------------+\n",
      "|col|sum(SUM916030)|\n",
      "+---+--------------+\n",
      "+---+--------------+\n",
      "\n",
      "+---+---+-----+\n",
      "|row|col|value|\n",
      "+---+---+-----+\n",
      "+---+---+-----+\n",
      "\n",
      "+--------------+\n",
      "|max(MAX424746)|\n",
      "+--------------+\n",
      "|          null|\n",
      "+--------------+\n",
      "\n",
      "+---+---+-----+\n",
      "|row|col|value|\n",
      "+---+---+-----+\n",
      "+---+---+-----+\n",
      "\n",
      "+---+----------+\n",
      "|col|max(value)|\n",
      "+---+----------+\n",
      "+---+----------+\n",
      "\n",
      "+---+---+-----+\n",
      "|row|col|value|\n",
      "+---+---+-----+\n",
      "+---+---+-----+\n",
      "\n",
      "+---+---+-----+\n",
      "|row|col|value|\n",
      "+---+---+-----+\n",
      "+---+---+-----+\n",
      "\n",
      "+---+--------------+\n",
      "|col|sum(SUM916030)|\n",
      "+---+--------------+\n",
      "+---+--------------+\n",
      "\n",
      "+---+---+-----+\n",
      "|row|col|value|\n",
      "+---+---+-----+\n",
      "+---+---+-----+\n",
      "\n",
      "+----------------------------+\n",
      "|newchaos_SINGLETON_RELATION_|\n",
      "+----------------------------+\n",
      "|                        null|\n",
      "+----------------------------+\n",
      "\n",
      "+---+---+-----+\n",
      "|row|col|value|\n",
      "+---+---+-----+\n",
      "+---+---+-----+\n",
      "\n",
      "+--------+\n",
      "|newchaos|\n",
      "+--------+\n",
      "|    null|\n",
      "+--------+\n",
      "\n"
     ]
    }
   ],
   "source": [
    "sparkconn.execute_query(pd)\n"
   ]
  },
  {
   "cell_type": "code",
   "execution_count": null,
   "metadata": {
    "collapsed": true
   },
   "outputs": [],
   "source": []
  },
  {
   "cell_type": "code",
   "execution_count": null,
   "metadata": {
    "collapsed": true
   },
   "outputs": [],
   "source": []
  }
 ],
 "metadata": {
  "kernelspec": {
   "display_name": "Python 2",
   "language": "python",
   "name": "python2"
  },
  "language_info": {
   "codemirror_mode": {
    "name": "ipython",
    "version": 2
   },
   "file_extension": ".py",
   "mimetype": "text/x-python",
   "name": "python",
   "nbconvert_exporter": "python",
   "pygments_lexer": "ipython2",
   "version": "2.7.9"
  }
 },
 "nbformat": 4,
 "nbformat_minor": 0
}
